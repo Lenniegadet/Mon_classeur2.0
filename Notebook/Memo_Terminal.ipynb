{
 "cells": [
  {
   "attachments": {},
   "cell_type": "markdown",
   "metadata": {},
   "source": [
    "# Mémo Terminal"
   ]
  },
  {
   "attachments": {},
   "cell_type": "markdown",
   "metadata": {},
   "source": [
    "## A faire vous même n°1 :"
   ]
  },
  {
   "attachments": {},
   "cell_type": "markdown",
   "metadata": {},
   "source": [
    "- `uname` qui renvoie le nom du système d'exploitation de la machine ;\n",
    "- `uname -n` qui renvoie le nom de la machine ;\n",
    "- `uname -a` qui complète avec d'autres informations concernant la version de l'OS et le hardware de la machine...\n"
   ]
  },
  {
   "attachments": {},
   "cell_type": "markdown",
   "metadata": {},
   "source": [
    "## A faire vous-même n°4 :"
   ]
  },
  {
   "attachments": {},
   "cell_type": "markdown",
   "metadata": {},
   "source": [
    "Commandes du jeu :\n",
    "- cat\t: Utiliser ou lire un objet, ou bien parler à quelqu'un.\n",
    "- ls\t: Décrire un chemin.\n",
    "- cd\t: Se déplacer dans un autre chemin.\n",
    "- man\t: En savoir plus sur un sort.\n",
    "- help\t: Lister les sorts utilisables.\n",
    "- exit\t: Quitter le jeu.\n",
    "- mv\t: Déplacer un objet dans un autre chemin.\n",
    "- rm    : Faire disparaitre un objet.\n",
    "- mkdir : Permet de créer un nouveau chemin.\n",
    "- touch : Permet de créer un objet.\n",
    "- cp    : Permet de clonner un objet.\n",
    "- cd~   : Revenir au point de départ.\n",
    "- ./    : Utiliser un objet.\n",
    "- grep  : Trouver toutes les référances d'un mot dans un livre.\n",
    "- unzip : Ouvrir un sac.\n",
    "- sudo  : Permet de demander les droits de \"super utilisateur\" pour écrire dans les dossiers du jeu.\n",
    "\n"
   ]
  }
 ],
 "metadata": {
  "language_info": {
   "name": "python"
  },
  "orig_nbformat": 4
 },
 "nbformat": 4,
 "nbformat_minor": 2
}
