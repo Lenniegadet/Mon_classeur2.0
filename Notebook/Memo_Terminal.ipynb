{
 "cells": [
  {
   "attachments": {},
   "cell_type": "markdown",
   "metadata": {},
   "source": [
    "# Mémo Terminal"
   ]
  },
  {
   "attachments": {},
   "cell_type": "markdown",
   "metadata": {},
   "source": [
    "## A faire vous même n°1 :"
   ]
  },
  {
   "attachments": {},
   "cell_type": "markdown",
   "metadata": {},
   "source": [
    "- `uname` qui renvoie le nom du système d'exploitation de la machine ;\n",
    "- `uname -n` qui renvoie le nom de la machine ;\n",
    "- `uname -a` qui complète avec d'autres informations concernant la version de l'OS et le hardware de la machine...\n"
   ]
  },
  {
   "cell_type": "markdown",
   "metadata": {},
   "source": []
  }
 ],
 "metadata": {
  "language_info": {
   "name": "python"
  },
  "orig_nbformat": 4
 },
 "nbformat": 4,
 "nbformat_minor": 2
}
